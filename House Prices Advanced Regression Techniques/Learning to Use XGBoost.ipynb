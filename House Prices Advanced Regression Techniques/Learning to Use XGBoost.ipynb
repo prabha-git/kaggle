{
 "cells": [
  {
   "cell_type": "code",
   "execution_count": null,
   "metadata": {
    "collapsed": true
   },
   "outputs": [],
   "source": [
    "#Learning to Use XGBoost\n",
    "\n",
    "#https://www.kaggle.com/dansbecker/learning-to-use-xgboost"
   ]
  },
  {
   "cell_type": "code",
   "execution_count": 18,
   "metadata": {
    "collapsed": true
   },
   "outputs": [],
   "source": [
    "import pandas as pd\n",
    "import xgboost as xgb\n",
    "from sklearn.model_selection import train_test_split\n",
    "from sklearn.preprocessing import Imputer\n",
    "\n",
    "from xgboost import XGBRegressor"
   ]
  },
  {
   "cell_type": "code",
   "execution_count": 19,
   "metadata": {
    "collapsed": true
   },
   "outputs": [],
   "source": [
    "train=pd.read_csv('train.csv')\n",
    "test=pd.read_csv('test.csv')"
   ]
  },
  {
   "cell_type": "code",
   "execution_count": 20,
   "metadata": {},
   "outputs": [
    {
     "data": {
      "text/plain": [
       "Index(['Id', 'MSSubClass', 'MSZoning', 'LotFrontage', 'LotArea', 'Street',\n",
       "       'Alley', 'LotShape', 'LandContour', 'Utilities', 'LotConfig',\n",
       "       'LandSlope', 'Neighborhood', 'Condition1', 'Condition2', 'BldgType',\n",
       "       'HouseStyle', 'OverallQual', 'OverallCond', 'YearBuilt', 'YearRemodAdd',\n",
       "       'RoofStyle', 'RoofMatl', 'Exterior1st', 'Exterior2nd', 'MasVnrType',\n",
       "       'MasVnrArea', 'ExterQual', 'ExterCond', 'Foundation', 'BsmtQual',\n",
       "       'BsmtCond', 'BsmtExposure', 'BsmtFinType1', 'BsmtFinSF1',\n",
       "       'BsmtFinType2', 'BsmtFinSF2', 'BsmtUnfSF', 'TotalBsmtSF', 'Heating',\n",
       "       'HeatingQC', 'CentralAir', 'Electrical', '1stFlrSF', '2ndFlrSF',\n",
       "       'LowQualFinSF', 'GrLivArea', 'BsmtFullBath', 'BsmtHalfBath', 'FullBath',\n",
       "       'HalfBath', 'BedroomAbvGr', 'KitchenAbvGr', 'KitchenQual',\n",
       "       'TotRmsAbvGrd', 'Functional', 'Fireplaces', 'FireplaceQu', 'GarageType',\n",
       "       'GarageYrBlt', 'GarageFinish', 'GarageCars', 'GarageArea', 'GarageQual',\n",
       "       'GarageCond', 'PavedDrive', 'WoodDeckSF', 'OpenPorchSF',\n",
       "       'EnclosedPorch', '3SsnPorch', 'ScreenPorch', 'PoolArea', 'PoolQC',\n",
       "       'Fence', 'MiscFeature', 'MiscVal', 'MoSold', 'YrSold', 'SaleType',\n",
       "       'SaleCondition', 'SalePrice'],\n",
       "      dtype='object')"
      ]
     },
     "execution_count": 20,
     "metadata": {},
     "output_type": "execute_result"
    }
   ],
   "source": [
    "train.columns"
   ]
  },
  {
   "cell_type": "code",
   "execution_count": 21,
   "metadata": {
    "scrolled": false
   },
   "outputs": [
    {
     "data": {
      "text/plain": [
       "Index(['Id', 'MSSubClass', 'MSZoning', 'LotFrontage', 'LotArea', 'Street',\n",
       "       'Alley', 'LotShape', 'LandContour', 'Utilities', 'LotConfig',\n",
       "       'LandSlope', 'Neighborhood', 'Condition1', 'Condition2', 'BldgType',\n",
       "       'HouseStyle', 'OverallQual', 'OverallCond', 'YearBuilt', 'YearRemodAdd',\n",
       "       'RoofStyle', 'RoofMatl', 'Exterior1st', 'Exterior2nd', 'MasVnrType',\n",
       "       'MasVnrArea', 'ExterQual', 'ExterCond', 'Foundation', 'BsmtQual',\n",
       "       'BsmtCond', 'BsmtExposure', 'BsmtFinType1', 'BsmtFinSF1',\n",
       "       'BsmtFinType2', 'BsmtFinSF2', 'BsmtUnfSF', 'TotalBsmtSF', 'Heating',\n",
       "       'HeatingQC', 'CentralAir', 'Electrical', '1stFlrSF', '2ndFlrSF',\n",
       "       'LowQualFinSF', 'GrLivArea', 'BsmtFullBath', 'BsmtHalfBath', 'FullBath',\n",
       "       'HalfBath', 'BedroomAbvGr', 'KitchenAbvGr', 'KitchenQual',\n",
       "       'TotRmsAbvGrd', 'Functional', 'Fireplaces', 'FireplaceQu', 'GarageType',\n",
       "       'GarageYrBlt', 'GarageFinish', 'GarageCars', 'GarageArea', 'GarageQual',\n",
       "       'GarageCond', 'PavedDrive', 'WoodDeckSF', 'OpenPorchSF',\n",
       "       'EnclosedPorch', '3SsnPorch', 'ScreenPorch', 'PoolArea', 'PoolQC',\n",
       "       'Fence', 'MiscFeature', 'MiscVal', 'MoSold', 'YrSold', 'SaleType',\n",
       "       'SaleCondition'],\n",
       "      dtype='object')"
      ]
     },
     "execution_count": 21,
     "metadata": {},
     "output_type": "execute_result"
    }
   ],
   "source": [
    "test.columns"
   ]
  },
  {
   "cell_type": "code",
   "execution_count": 22,
   "metadata": {},
   "outputs": [
    {
     "data": {
      "text/plain": [
       "((1460, 81), (1459, 80))"
      ]
     },
     "execution_count": 22,
     "metadata": {},
     "output_type": "execute_result"
    }
   ],
   "source": [
    "train.shape,test.shape"
   ]
  },
  {
   "cell_type": "code",
   "execution_count": 23,
   "metadata": {
    "collapsed": true
   },
   "outputs": [],
   "source": [
    "#Remove the row if 'SalePrice' is null.\n",
    "train.dropna(axis=0,subset=['SalePrice'],inplace=True)\n",
    "\n",
    "train_y=train.SalePrice\n",
    "train_x=train.drop('SalePrice',axis=1).select_dtypes(exclude=['object'])\n"
   ]
  },
  {
   "cell_type": "code",
   "execution_count": 24,
   "metadata": {
    "collapsed": true
   },
   "outputs": [],
   "source": [
    "train_x,test_x,train_y,test_y=train_test_split(train_x,train_y,test_size=.2)"
   ]
  },
  {
   "cell_type": "code",
   "execution_count": 25,
   "metadata": {
    "collapsed": true
   },
   "outputs": [],
   "source": [
    "myImputer=Imputer()\n",
    "train_x=myImputer.fit_transform(train_x)\n",
    "test_x=myImputer.transform(test_x)\n",
    "\n"
   ]
  },
  {
   "cell_type": "code",
   "execution_count": 26,
   "metadata": {},
   "outputs": [
    {
     "data": {
      "text/plain": [
       "XGBRegressor(base_score=0.5, booster='gbtree', colsample_bylevel=1,\n",
       "       colsample_bytree=1, gamma=0, learning_rate=0.1, max_delta_step=0,\n",
       "       max_depth=3, min_child_weight=1, missing=None, n_estimators=100,\n",
       "       n_jobs=1, nthread=None, objective='reg:linear', random_state=0,\n",
       "       reg_alpha=0, reg_lambda=1, scale_pos_weight=1, seed=None,\n",
       "       silent=True, subsample=1)"
      ]
     },
     "execution_count": 26,
     "metadata": {},
     "output_type": "execute_result"
    }
   ],
   "source": [
    "#Test has only 'SalePrice' extra\n",
    "\n",
    "xgb_reg=XGBRegressor()\n",
    "xgb_reg.fit(train_x,train_y)"
   ]
  },
  {
   "cell_type": "code",
   "execution_count": 27,
   "metadata": {
    "collapsed": true
   },
   "outputs": [],
   "source": [
    "prediction=xgb_reg.predict(test_x)"
   ]
  },
  {
   "cell_type": "code",
   "execution_count": 28,
   "metadata": {},
   "outputs": [
    {
     "data": {
      "text/plain": [
       "18384.732609160958"
      ]
     },
     "execution_count": 28,
     "metadata": {},
     "output_type": "execute_result"
    }
   ],
   "source": [
    "from sklearn.metrics import mean_absolute_error\n",
    "\n",
    "mean_absolute_error(prediction,test_y)"
   ]
  },
  {
   "cell_type": "code",
   "execution_count": 29,
   "metadata": {},
   "outputs": [
    {
     "name": "stdout",
     "output_type": "stream",
     "text": [
      "[0]\tvalidation_0-rmse:179968\n",
      "Will train until validation_0-rmse hasn't improved in 5 rounds.\n",
      "[1]\tvalidation_0-rmse:162852\n",
      "[2]\tvalidation_0-rmse:147308\n",
      "[3]\tvalidation_0-rmse:133182\n",
      "[4]\tvalidation_0-rmse:121154\n",
      "[5]\tvalidation_0-rmse:110639\n",
      "[6]\tvalidation_0-rmse:101077\n",
      "[7]\tvalidation_0-rmse:92841.5\n",
      "[8]\tvalidation_0-rmse:85130.2\n",
      "[9]\tvalidation_0-rmse:78487.2\n",
      "[10]\tvalidation_0-rmse:72492.2\n",
      "[11]\tvalidation_0-rmse:67345.8\n",
      "[12]\tvalidation_0-rmse:62764.2\n",
      "[13]\tvalidation_0-rmse:58823.2\n",
      "[14]\tvalidation_0-rmse:55152.8\n",
      "[15]\tvalidation_0-rmse:51938.3\n",
      "[16]\tvalidation_0-rmse:49275.7\n",
      "[17]\tvalidation_0-rmse:46887.2\n",
      "[18]\tvalidation_0-rmse:45168\n",
      "[19]\tvalidation_0-rmse:43322.7\n",
      "[20]\tvalidation_0-rmse:41941.5\n",
      "[21]\tvalidation_0-rmse:40625.9\n",
      "[22]\tvalidation_0-rmse:39393\n",
      "[23]\tvalidation_0-rmse:38419.8\n",
      "[24]\tvalidation_0-rmse:37652.1\n",
      "[25]\tvalidation_0-rmse:37203.8\n",
      "[26]\tvalidation_0-rmse:36775.9\n",
      "[27]\tvalidation_0-rmse:36302.2\n",
      "[28]\tvalidation_0-rmse:35927\n",
      "[29]\tvalidation_0-rmse:35630.2\n",
      "[30]\tvalidation_0-rmse:35340.4\n",
      "[31]\tvalidation_0-rmse:35151.6\n",
      "[32]\tvalidation_0-rmse:35017.9\n",
      "[33]\tvalidation_0-rmse:34939.6\n",
      "[34]\tvalidation_0-rmse:34775.3\n",
      "[35]\tvalidation_0-rmse:34543.8\n",
      "[36]\tvalidation_0-rmse:34489.4\n",
      "[37]\tvalidation_0-rmse:34393.7\n",
      "[38]\tvalidation_0-rmse:34365.7\n",
      "[39]\tvalidation_0-rmse:34334.5\n",
      "[40]\tvalidation_0-rmse:34270.5\n",
      "[41]\tvalidation_0-rmse:34258.9\n",
      "[42]\tvalidation_0-rmse:34010.4\n",
      "[43]\tvalidation_0-rmse:34046.6\n",
      "[44]\tvalidation_0-rmse:34011.4\n",
      "[45]\tvalidation_0-rmse:33967.7\n",
      "[46]\tvalidation_0-rmse:33982.3\n",
      "[47]\tvalidation_0-rmse:33920.5\n",
      "[48]\tvalidation_0-rmse:33915.5\n",
      "[49]\tvalidation_0-rmse:33882.6\n",
      "[50]\tvalidation_0-rmse:33852.3\n",
      "[51]\tvalidation_0-rmse:33830\n",
      "[52]\tvalidation_0-rmse:33815.5\n",
      "[53]\tvalidation_0-rmse:33693.6\n",
      "[54]\tvalidation_0-rmse:33696.2\n",
      "[55]\tvalidation_0-rmse:33694.8\n",
      "[56]\tvalidation_0-rmse:33678.2\n",
      "[57]\tvalidation_0-rmse:33688.8\n",
      "[58]\tvalidation_0-rmse:33661.9\n",
      "[59]\tvalidation_0-rmse:33579.3\n",
      "[60]\tvalidation_0-rmse:33595.3\n",
      "[61]\tvalidation_0-rmse:33584.3\n",
      "[62]\tvalidation_0-rmse:33575.2\n",
      "[63]\tvalidation_0-rmse:33541.9\n",
      "[64]\tvalidation_0-rmse:33477.1\n",
      "[65]\tvalidation_0-rmse:33434.5\n",
      "[66]\tvalidation_0-rmse:33433.2\n",
      "[67]\tvalidation_0-rmse:33431.4\n",
      "[68]\tvalidation_0-rmse:33427.4\n",
      "[69]\tvalidation_0-rmse:33437.3\n",
      "[70]\tvalidation_0-rmse:33445.2\n",
      "[71]\tvalidation_0-rmse:33518.8\n",
      "[72]\tvalidation_0-rmse:33512\n",
      "[73]\tvalidation_0-rmse:33469\n",
      "Stopping. Best iteration:\n",
      "[68]\tvalidation_0-rmse:33427.4\n",
      "\n"
     ]
    },
    {
     "data": {
      "text/plain": [
       "XGBRegressor(base_score=0.5, booster='gbtree', colsample_bylevel=1,\n",
       "       colsample_bytree=1, gamma=0, learning_rate=0.1, max_delta_step=0,\n",
       "       max_depth=3, min_child_weight=1, missing=None, n_estimators=1000,\n",
       "       n_jobs=1, nthread=None, objective='reg:linear', random_state=0,\n",
       "       reg_alpha=0, reg_lambda=1, scale_pos_weight=1, seed=None,\n",
       "       silent=True, subsample=1)"
      ]
     },
     "execution_count": 29,
     "metadata": {},
     "output_type": "execute_result"
    }
   ],
   "source": [
    "#Model Tuning \n",
    "xgb_reg=XGBRegressor(n_estimators=1000)\n",
    "xgb_reg.fit(train_x,train_y,early_stopping_rounds=5,eval_set=[(test_x,test_y)])"
   ]
  },
  {
   "cell_type": "code",
   "execution_count": 30,
   "metadata": {},
   "outputs": [],
   "source": [
    "predict=xgb_reg.predict(test_x)"
   ]
  },
  {
   "cell_type": "code",
   "execution_count": 31,
   "metadata": {},
   "outputs": [
    {
     "data": {
      "text/plain": [
       "18634.502541738013"
      ]
     },
     "execution_count": 31,
     "metadata": {},
     "output_type": "execute_result"
    }
   ],
   "source": [
    "mean_absolute_error(predict,test_y)"
   ]
  },
  {
   "cell_type": "code",
   "execution_count": 34,
   "metadata": {},
   "outputs": [
    {
     "name": "stdout",
     "output_type": "stream",
     "text": [
      "[0]\tvalidation_0-rmse:189607\n",
      "Will train until validation_0-rmse hasn't improved in 5 rounds.\n",
      "[1]\tvalidation_0-rmse:180395\n",
      "[2]\tvalidation_0-rmse:171792\n",
      "[3]\tvalidation_0-rmse:163579\n",
      "[4]\tvalidation_0-rmse:155766\n",
      "[5]\tvalidation_0-rmse:148220\n",
      "[6]\tvalidation_0-rmse:141320\n",
      "[7]\tvalidation_0-rmse:134833\n",
      "[8]\tvalidation_0-rmse:128488\n",
      "[9]\tvalidation_0-rmse:122608\n",
      "[10]\tvalidation_0-rmse:117223\n",
      "[11]\tvalidation_0-rmse:112081\n",
      "[12]\tvalidation_0-rmse:107150\n",
      "[13]\tvalidation_0-rmse:102596\n",
      "[14]\tvalidation_0-rmse:98212.9\n",
      "[15]\tvalidation_0-rmse:94251.8\n",
      "[16]\tvalidation_0-rmse:90268.3\n",
      "[17]\tvalidation_0-rmse:86679.7\n",
      "[18]\tvalidation_0-rmse:83243.8\n",
      "[19]\tvalidation_0-rmse:79996.4\n",
      "[20]\tvalidation_0-rmse:76857\n",
      "[21]\tvalidation_0-rmse:73996.9\n",
      "[22]\tvalidation_0-rmse:71308.3\n",
      "[23]\tvalidation_0-rmse:68814.2\n",
      "[24]\tvalidation_0-rmse:66463.7\n",
      "[25]\tvalidation_0-rmse:64205.5\n",
      "[26]\tvalidation_0-rmse:62134.6\n",
      "[27]\tvalidation_0-rmse:60150.3\n",
      "[28]\tvalidation_0-rmse:58388.4\n",
      "[29]\tvalidation_0-rmse:56602.2\n",
      "[30]\tvalidation_0-rmse:55036.1\n",
      "[31]\tvalidation_0-rmse:53467.5\n",
      "[32]\tvalidation_0-rmse:51972.8\n",
      "[33]\tvalidation_0-rmse:50647.1\n",
      "[34]\tvalidation_0-rmse:49326.7\n",
      "[35]\tvalidation_0-rmse:48198.5\n",
      "[36]\tvalidation_0-rmse:47215.4\n",
      "[37]\tvalidation_0-rmse:46272.6\n",
      "[38]\tvalidation_0-rmse:45328.7\n",
      "[39]\tvalidation_0-rmse:44397.1\n",
      "[40]\tvalidation_0-rmse:43734.2\n",
      "[41]\tvalidation_0-rmse:43063.3\n",
      "[42]\tvalidation_0-rmse:42396.2\n",
      "[43]\tvalidation_0-rmse:41841.9\n",
      "[44]\tvalidation_0-rmse:41239\n",
      "[45]\tvalidation_0-rmse:40744.4\n",
      "[46]\tvalidation_0-rmse:40265.4\n",
      "[47]\tvalidation_0-rmse:39821.3\n",
      "[48]\tvalidation_0-rmse:39473.1\n",
      "[49]\tvalidation_0-rmse:39043.4\n",
      "[50]\tvalidation_0-rmse:38730.3\n",
      "[51]\tvalidation_0-rmse:38404.2\n",
      "[52]\tvalidation_0-rmse:38069.2\n",
      "[53]\tvalidation_0-rmse:37805.9\n",
      "[54]\tvalidation_0-rmse:37472.9\n",
      "[55]\tvalidation_0-rmse:37234.1\n",
      "[56]\tvalidation_0-rmse:37009.7\n",
      "[57]\tvalidation_0-rmse:36896.7\n",
      "[58]\tvalidation_0-rmse:36697.8\n",
      "[59]\tvalidation_0-rmse:36527.5\n",
      "[60]\tvalidation_0-rmse:36361.3\n",
      "[61]\tvalidation_0-rmse:36209.7\n",
      "[62]\tvalidation_0-rmse:36088.3\n",
      "[63]\tvalidation_0-rmse:36011.9\n",
      "[64]\tvalidation_0-rmse:35913.1\n",
      "[65]\tvalidation_0-rmse:35815.8\n",
      "[66]\tvalidation_0-rmse:35737.8\n",
      "[67]\tvalidation_0-rmse:35671.5\n",
      "[68]\tvalidation_0-rmse:35609.2\n",
      "[69]\tvalidation_0-rmse:35520.2\n",
      "[70]\tvalidation_0-rmse:35509\n",
      "[71]\tvalidation_0-rmse:35329.6\n",
      "[72]\tvalidation_0-rmse:35290.9\n",
      "[73]\tvalidation_0-rmse:35238.6\n",
      "[74]\tvalidation_0-rmse:35243.9\n",
      "[75]\tvalidation_0-rmse:35234.9\n",
      "[76]\tvalidation_0-rmse:35219.8\n",
      "[77]\tvalidation_0-rmse:35117.9\n",
      "[78]\tvalidation_0-rmse:35082.2\n",
      "[79]\tvalidation_0-rmse:35053.9\n",
      "[80]\tvalidation_0-rmse:35023\n",
      "[81]\tvalidation_0-rmse:35015.4\n",
      "[82]\tvalidation_0-rmse:34996.8\n",
      "[83]\tvalidation_0-rmse:34974\n",
      "[84]\tvalidation_0-rmse:34934.1\n",
      "[85]\tvalidation_0-rmse:34924.2\n",
      "[86]\tvalidation_0-rmse:34892.4\n",
      "[87]\tvalidation_0-rmse:34885.2\n",
      "[88]\tvalidation_0-rmse:34797.2\n",
      "[89]\tvalidation_0-rmse:34797.5\n",
      "[90]\tvalidation_0-rmse:34751.4\n",
      "[91]\tvalidation_0-rmse:34735.1\n",
      "[92]\tvalidation_0-rmse:34732.9\n",
      "[93]\tvalidation_0-rmse:34739.5\n",
      "[94]\tvalidation_0-rmse:34732.4\n",
      "[95]\tvalidation_0-rmse:34724.4\n",
      "[96]\tvalidation_0-rmse:34712.1\n",
      "[97]\tvalidation_0-rmse:34676.3\n",
      "[98]\tvalidation_0-rmse:34672.5\n",
      "[99]\tvalidation_0-rmse:34684.6\n",
      "[100]\tvalidation_0-rmse:34673.3\n",
      "[101]\tvalidation_0-rmse:34663\n",
      "[102]\tvalidation_0-rmse:34657.9\n",
      "[103]\tvalidation_0-rmse:34658.2\n",
      "[104]\tvalidation_0-rmse:34693.7\n",
      "[105]\tvalidation_0-rmse:34693.7\n",
      "[106]\tvalidation_0-rmse:34670.6\n",
      "[107]\tvalidation_0-rmse:34589.6\n",
      "[108]\tvalidation_0-rmse:34597.1\n",
      "[109]\tvalidation_0-rmse:34596.2\n",
      "[110]\tvalidation_0-rmse:34572.8\n",
      "[111]\tvalidation_0-rmse:34530.6\n",
      "[112]\tvalidation_0-rmse:34523.1\n",
      "[113]\tvalidation_0-rmse:34510.3\n",
      "[114]\tvalidation_0-rmse:34490.8\n",
      "[115]\tvalidation_0-rmse:34448.5\n",
      "[116]\tvalidation_0-rmse:34440.5\n",
      "[117]\tvalidation_0-rmse:34471.6\n",
      "[118]\tvalidation_0-rmse:34456.4\n",
      "[119]\tvalidation_0-rmse:34461.6\n",
      "[120]\tvalidation_0-rmse:34464\n",
      "[121]\tvalidation_0-rmse:34462.3\n",
      "Stopping. Best iteration:\n",
      "[116]\tvalidation_0-rmse:34440.5\n",
      "\n"
     ]
    },
    {
     "data": {
      "text/plain": [
       "XGBRegressor(base_score=0.5, booster='gbtree', colsample_bylevel=1,\n",
       "       colsample_bytree=1, gamma=0, learning_rate=0.05, max_delta_step=0,\n",
       "       max_depth=3, min_child_weight=1, missing=None, n_estimators=1000,\n",
       "       n_jobs=1, nthread=None, objective='reg:linear', random_state=0,\n",
       "       reg_alpha=0, reg_lambda=1, scale_pos_weight=1, seed=None,\n",
       "       silent=True, subsample=1)"
      ]
     },
     "execution_count": 34,
     "metadata": {},
     "output_type": "execute_result"
    }
   ],
   "source": [
    "xgb_reg=XGBRegressor(n_estimators=1000,learning_rate=.05)\n",
    "xgb_reg.fit(train_x,train_y,early_stopping_rounds=5,eval_set=[(test_x,test_y)])"
   ]
  },
  {
   "cell_type": "code",
   "execution_count": 37,
   "metadata": {},
   "outputs": [],
   "source": [
    "predict=xgb_reg.predict(test_x)"
   ]
  },
  {
   "cell_type": "code",
   "execution_count": 38,
   "metadata": {},
   "outputs": [
    {
     "data": {
      "text/plain": [
       "18745.260086686645"
      ]
     },
     "execution_count": 38,
     "metadata": {},
     "output_type": "execute_result"
    }
   ],
   "source": [
    "mean_absolute_error(predict,test_y)"
   ]
  }
 ],
 "metadata": {
  "kernelspec": {
   "display_name": "Python 3",
   "language": "python",
   "name": "python3"
  },
  "language_info": {
   "codemirror_mode": {
    "name": "ipython",
    "version": 3
   },
   "file_extension": ".py",
   "mimetype": "text/x-python",
   "name": "python",
   "nbconvert_exporter": "python",
   "pygments_lexer": "ipython3",
   "version": "3.6.1"
  }
 },
 "nbformat": 4,
 "nbformat_minor": 2
}

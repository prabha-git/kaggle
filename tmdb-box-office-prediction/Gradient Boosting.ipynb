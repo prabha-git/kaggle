{
 "cells": [
  {
   "cell_type": "code",
   "execution_count": 1,
   "metadata": {},
   "outputs": [
    {
     "name": "stderr",
     "output_type": "stream",
     "text": [
      "/Users/prabha/anaconda3/lib/python3.7/site-packages/sklearn/utils/deprecation.py:144: FutureWarning: The sklearn.metrics.scorer module is  deprecated in version 0.22 and will be removed in version 0.24. The corresponding classes / functions should instead be imported from sklearn.metrics. Anything that cannot be imported from sklearn.metrics is now part of the private API.\n",
      "  warnings.warn(message, FutureWarning)\n",
      "/Users/prabha/anaconda3/lib/python3.7/site-packages/sklearn/utils/deprecation.py:144: FutureWarning: The sklearn.feature_selection.base module is  deprecated in version 0.22 and will be removed in version 0.24. The corresponding classes / functions should instead be imported from sklearn.feature_selection. Anything that cannot be imported from sklearn.feature_selection is now part of the private API.\n",
      "  warnings.warn(message, FutureWarning)\n"
     ]
    }
   ],
   "source": [
    "import ast\n",
    "import pandas as pd\n",
    "import numpy as np\n",
    "import matplotlib.pyplot as plt\n",
    "import seaborn as sns\n",
    "%matplotlib inline\n",
    "plt.style.use('ggplot')\n",
    "import eli5\n",
    "from datetime import datetime\n",
    "\n",
    "#fast ai libraries\n",
    "from fastai.imports import *\n",
    "#from structured import *\n",
    "\n",
    "# Modeling lib\n",
    "from sklearn.ensemble import GradientBoostingRegressor,RandomForestRegressor\n",
    "from sklearn.preprocessing import OneHotEncoder\n",
    "from sklearn.model_selection import train_test_split\n",
    "from sklearn import metrics\n",
    "from sklearn import tree\n",
    "import lightgbm as lgb"
   ]
  },
  {
   "cell_type": "code",
   "execution_count": 2,
   "metadata": {},
   "outputs": [
    {
     "data": {
      "text/plain": [
       "'0.22.1'"
      ]
     },
     "execution_count": 2,
     "metadata": {},
     "output_type": "execute_result"
    }
   ],
   "source": [
    "import sklearn\n",
    "sklearn.__version__"
   ]
  },
  {
   "cell_type": "code",
   "execution_count": 3,
   "metadata": {},
   "outputs": [],
   "source": [
    "# Loading the data\n",
    "train,test = pd.read_csv('dataset/train.csv'),pd.read_csv('dataset/test.csv')\n",
    "train.index = train['id']\n",
    "test.index = test['id']"
   ]
  },
  {
   "cell_type": "code",
   "execution_count": 4,
   "metadata": {},
   "outputs": [],
   "source": [
    "train.loc[train['id'] == 16,'revenue'] = 192864         \n",
    "train.loc[train['id'] == 90,'budget'] = 30000000                  \n",
    "train.loc[train['id'] == 118,'budget'] = 60000000       \n",
    "train.loc[train['id'] == 149,'budget'] = 18000000       \n",
    "train.loc[train['id'] == 313,'revenue'] = 12000000       \n",
    "train.loc[train['id'] == 451,'revenue'] = 12000000      \n",
    "train.loc[train['id'] == 464,'budget'] = 20000000       \n",
    "train.loc[train['id'] == 470,'budget'] = 13000000       \n",
    "train.loc[train['id'] == 513,'budget'] = 930000         \n",
    "train.loc[train['id'] == 797,'budget'] = 8000000        \n",
    "train.loc[train['id'] == 819,'budget'] = 90000000       \n",
    "train.loc[train['id'] == 850,'budget'] = 90000000       \n",
    "train.loc[train['id'] == 1007,'budget'] = 2              \n",
    "train.loc[train['id'] == 1112,'budget'] = 7500000       \n",
    "train.loc[train['id'] == 1131,'budget'] = 4300000        \n",
    "train.loc[train['id'] == 1359,'budget'] = 10000000       \n",
    "train.loc[train['id'] == 1542,'budget'] = 1             \n",
    "train.loc[train['id'] == 1570,'budget'] = 15800000       \n",
    "train.loc[train['id'] == 1571,'budget'] = 4000000        \n",
    "train.loc[train['id'] == 1714,'budget'] = 46000000       \n",
    "train.loc[train['id'] == 1721,'budget'] = 17500000       \n",
    "train.loc[train['id'] == 1865,'revenue'] = 25000000      \n",
    "train.loc[train['id'] == 1885,'budget'] = 12             \n",
    "train.loc[train['id'] == 2091,'budget'] = 10             \n",
    "train.loc[train['id'] == 2268,'budget'] = 17500000       \n",
    "train.loc[train['id'] == 2491,'budget'] = 6              \n",
    "train.loc[train['id'] == 2602,'budget'] = 31000000       \n",
    "train.loc[train['id'] == 2612,'budget'] = 15000000       \n",
    "train.loc[train['id'] == 2696,'budget'] = 10000000      \n",
    "train.loc[train['id'] == 2801,'budget'] = 10000000       \n",
    "train.loc[train['id'] == 335,'budget'] = 2 \n",
    "train.loc[train['id'] == 348,'budget'] = 12\n",
    "train.loc[train['id'] == 470,'budget'] = 13000000 \n",
    "train.loc[train['id'] == 513,'budget'] = 1100000\n",
    "train.loc[train['id'] == 640,'budget'] = 6 \n",
    "train.loc[train['id'] == 696,'budget'] = 1\n",
    "train.loc[train['id'] == 797,'budget'] = 8000000 \n",
    "train.loc[train['id'] == 850,'budget'] = 1500000\n",
    "train.loc[train['id'] == 1199,'budget'] = 5 \n",
    "train.loc[train['id'] == 1282,'budget'] = 9              \n",
    "train.loc[train['id'] == 1347,'budget'] = 1\n",
    "train.loc[train['id'] == 1755,'budget'] = 2\n",
    "train.loc[train['id'] == 1801,'budget'] = 5\n",
    "train.loc[train['id'] == 1918,'budget'] = 592 \n",
    "train.loc[train['id'] == 2033,'budget'] = 4\n",
    "train.loc[train['id'] == 2118,'budget'] = 344 \n",
    "train.loc[train['id'] == 2252,'budget'] = 130\n",
    "train.loc[train['id'] == 2256,'budget'] = 1 \n",
    "train.loc[train['id'] == 2696,'budget'] = 10000000"
   ]
  },
  {
   "cell_type": "code",
   "execution_count": 5,
   "metadata": {},
   "outputs": [],
   "source": [
    "test.loc[test['id'] == 3033,'budget'] = 250 \n",
    "test.loc[test['id'] == 3051,'budget'] = 50\n",
    "test.loc[test['id'] == 3084,'budget'] = 337\n",
    "test.loc[test['id'] == 3224,'budget'] = 4  \n",
    "test.loc[test['id'] == 3594,'budget'] = 25  \n",
    "test.loc[test['id'] == 3619,'budget'] = 500  \n",
    "test.loc[test['id'] == 3831,'budget'] = 3  \n",
    "test.loc[test['id'] == 3935,'budget'] = 500  \n",
    "test.loc[test['id'] == 4049,'budget'] = 995946 \n",
    "test.loc[test['id'] == 4424,'budget'] = 3  \n",
    "test.loc[test['id'] == 4460,'budget'] = 8  \n",
    "test.loc[test['id'] == 4555,'budget'] = 1200000 \n",
    "test.loc[test['id'] == 4624,'budget'] = 30 \n",
    "test.loc[test['id'] == 4645,'budget'] = 500 \n",
    "test.loc[test['id'] == 4709,'budget'] = 450 \n",
    "test.loc[test['id'] == 4839,'budget'] = 7\n",
    "test.loc[test['id'] == 3125,'budget'] = 25 \n",
    "test.loc[test['id'] == 3142,'budget'] = 1\n",
    "test.loc[test['id'] == 3201,'budget'] = 450\n",
    "test.loc[test['id'] == 3222,'budget'] = 6\n",
    "test.loc[test['id'] == 3545,'budget'] = 38\n",
    "test.loc[test['id'] == 3670,'budget'] = 18\n",
    "test.loc[test['id'] == 3792,'budget'] = 19\n",
    "test.loc[test['id'] == 3881,'budget'] = 7\n",
    "test.loc[test['id'] == 3969,'budget'] = 400\n",
    "test.loc[test['id'] == 4196,'budget'] = 6\n",
    "test.loc[test['id'] == 4221,'budget'] = 11\n",
    "test.loc[test['id'] == 4222,'budget'] = 500\n",
    "test.loc[test['id'] == 4285,'budget'] = 11\n",
    "test.loc[test['id'] == 4319,'budget'] = 1\n",
    "test.loc[test['id'] == 4639,'budget'] = 10\n",
    "test.loc[test['id'] == 4719,'budget'] = 45\n",
    "test.loc[test['id'] == 4822,'budget'] = 22\n",
    "test.loc[test['id'] == 4829,'budget'] = 20\n",
    "test.loc[test['id'] == 4969,'budget'] = 20\n",
    "test.loc[test['id'] == 5021,'budget'] = 40 \n",
    "test.loc[test['id'] == 5035,'budget'] = 1 \n",
    "test.loc[test['id'] == 5063,'budget'] = 14 \n",
    "test.loc[test['id'] == 5119,'budget'] = 2 \n",
    "test.loc[test['id'] == 5214,'budget'] = 30 \n",
    "test.loc[test['id'] == 5221,'budget'] = 50 \n",
    "test.loc[test['id'] == 4903,'budget'] = 15\n",
    "test.loc[test['id'] == 4983,'budget'] = 3\n",
    "test.loc[test['id'] == 5102,'budget'] = 28\n",
    "test.loc[test['id'] == 5217,'budget'] = 75\n",
    "test.loc[test['id'] == 5224,'budget'] = 3 \n",
    "test.loc[test['id'] == 5469,'budget'] = 20 \n",
    "test.loc[test['id'] == 5840,'budget'] = 1 \n",
    "test.loc[test['id'] == 5960,'budget'] = 30\n",
    "test.loc[test['id'] == 6506,'budget'] = 11 \n",
    "test.loc[test['id'] == 6553,'budget'] = 280\n",
    "test.loc[test['id'] == 6561,'budget'] = 7\n",
    "test.loc[test['id'] == 6582,'budget'] = 218\n",
    "test.loc[test['id'] == 6638,'budget'] = 5\n",
    "test.loc[test['id'] == 6749,'budget'] = 8 \n",
    "test.loc[test['id'] == 6759,'budget'] = 50 \n",
    "test.loc[test['id'] == 6856,'budget'] = 10\n",
    "test.loc[test['id'] == 6858,'budget'] =  100\n",
    "test.loc[test['id'] == 6876,'budget'] =  250\n",
    "test.loc[test['id'] == 6972,'budget'] = 1\n",
    "test.loc[test['id'] == 7079,'budget'] = 8000000\n",
    "test.loc[test['id'] == 7150,'budget'] = 118\n",
    "test.loc[test['id'] == 6506,'budget'] = 118\n",
    "test.loc[test['id'] == 7225,'budget'] = 6\n",
    "test.loc[test['id'] == 7231,'budget'] = 85\n",
    "test.loc[test['id'] == 5222,'budget'] = 5\n",
    "test.loc[test['id'] == 5322,'budget'] = 90\n",
    "test.loc[test['id'] == 5350,'budget'] = 70\n",
    "test.loc[test['id'] == 5378,'budget'] = 10\n",
    "test.loc[test['id'] == 5545,'budget'] = 80\n",
    "test.loc[test['id'] == 5810,'budget'] = 8\n",
    "test.loc[test['id'] == 5926,'budget'] = 300\n",
    "test.loc[test['id'] == 5927,'budget'] = 4\n",
    "test.loc[test['id'] == 5986,'budget'] = 1\n",
    "test.loc[test['id'] == 6053,'budget'] = 20\n",
    "test.loc[test['id'] == 6104,'budget'] = 1\n",
    "test.loc[test['id'] == 6130,'budget'] = 30\n",
    "test.loc[test['id'] == 6301,'budget'] = 150\n",
    "test.loc[test['id'] == 6276,'budget'] = 100\n",
    "test.loc[test['id'] == 6473,'budget'] = 100\n",
    "test.loc[test['id'] == 6842,'budget'] = 30"
   ]
  },
  {
   "cell_type": "code",
   "execution_count": 6,
   "metadata": {},
   "outputs": [],
   "source": [
    "# Filling the missing data\n",
    "test.loc[test['release_date'].isnull(),'release_date'] = '05/01/00'"
   ]
  },
  {
   "cell_type": "code",
   "execution_count": 7,
   "metadata": {},
   "outputs": [],
   "source": [
    "dict_column = ['belongs_to_collection','genres','spoken_languages','Keywords','cast','crew','production_companies']"
   ]
  },
  {
   "cell_type": "code",
   "execution_count": 8,
   "metadata": {},
   "outputs": [],
   "source": [
    "def text_to_dict(df,columns):\n",
    "    for col in columns:\n",
    "        df[col] = df[col].apply(lambda x: {} if pd.isna(x) else ast.literal_eval(x))\n",
    "    return df"
   ]
  },
  {
   "cell_type": "code",
   "execution_count": 9,
   "metadata": {},
   "outputs": [],
   "source": [
    "train = text_to_dict(train,dict_column)\n",
    "test = text_to_dict(test,dict_column)"
   ]
  },
  {
   "cell_type": "code",
   "execution_count": 10,
   "metadata": {},
   "outputs": [
    {
     "data": {
      "image/png": "[encoded data removed]",
      "text/plain": [
       "<Figure size 1152x432 with 2 Axes>"
      ]
     },
     "metadata": {},
     "output_type": "display_data"
    }
   ],
   "source": [
    "fig, ax = plt.subplots(figsize = (16,6))\n",
    "\n",
    "plt.subplot(1,2,1)\n",
    "plt.hist(train['revenue'])\n",
    "\n",
    "plt.subplot(1,2,2)\n",
    "sns.distplot(train['revenue'],hist=False)\n",
    "plt.show()"
   ]
  },
  {
   "cell_type": "code",
   "execution_count": 11,
   "metadata": {},
   "outputs": [
    {
     "data": {
      "image/png": "[encoded data removed]",
      "text/plain": [
       "<Figure size 1152x432 with 2 Axes>"
      ]
     },
     "metadata": {},
     "output_type": "display_data"
    }
   ],
   "source": [
    "# Revenue is right skewed. Need to take log\n",
    "fig, ax = plt.subplots(figsize = (16,6))\n",
    "plt.subplot(1,2,1)\n",
    "plt.hist(np.log1p(train['revenue']))\n",
    "\n",
    "plt.subplot(1,2,2)\n",
    "sns.distplot(np.log1p(train['revenue']),hist=False)\n",
    "plt.show()\n"
   ]
  },
  {
   "cell_type": "code",
   "execution_count": 12,
   "metadata": {},
   "outputs": [],
   "source": [
    "train['log_revenue'] = np.log1p(train['revenue'])\n",
    "train = train.drop(['revenue'],axis = 1)"
   ]
  },
  {
   "cell_type": "code",
   "execution_count": 13,
   "metadata": {},
   "outputs": [
    {
     "data": {
      "text/plain": [
       "((3000, 23), (4398, 22))"
      ]
     },
     "execution_count": 13,
     "metadata": {},
     "output_type": "execute_result"
    }
   ],
   "source": [
    "train.shape,test.shape"
   ]
  },
  {
   "cell_type": "code",
   "execution_count": 14,
   "metadata": {},
   "outputs": [
    {
     "data": {
      "text/plain": [
       "({'log_revenue'}, set())"
      ]
     },
     "execution_count": 14,
     "metadata": {},
     "output_type": "execute_result"
    }
   ],
   "source": [
    "# Checking the columns b/w train & test datasets\n",
    "train_columns,test_columns = set(list(train.columns)),set(list(test.columns))\n",
    "\n",
    "train_columns.difference(test_columns),test_columns.difference(train_columns)"
   ]
  },
  {
   "cell_type": "code",
   "execution_count": 15,
   "metadata": {},
   "outputs": [],
   "source": [
    "# Combining the dataset for pre-processing\n",
    "\n",
    "train_rows = train.shape[0]\n",
    "\n",
    "combined= train.append(test,ignore_index = True)"
   ]
  },
  {
   "cell_type": "code",
   "execution_count": 16,
   "metadata": {},
   "outputs": [
    {
     "data": {
      "text/html": [
       "<div>\n",
       "<style scoped>\n",
       "    .dataframe tbody tr th:only-of-type {\n",
       "        vertical-align: middle;\n",
       "    }\n",
       "\n",
       "    .dataframe tbody tr th {\n",
       "        vertical-align: top;\n",
       "    }\n",
       "\n",
       "    .dataframe thead th {\n",
       "        text-align: right;\n",
       "    }\n",
       "</style>\n",
       "<table border=\"1\" class=\"dataframe\">\n",
       "  <thead>\n",
       "    <tr style=\"text-align: right;\">\n",
       "      <th></th>\n",
       "      <th>id</th>\n",
       "      <th>belongs_to_collection</th>\n",
       "      <th>budget</th>\n",
       "      <th>genres</th>\n",
       "      <th>homepage</th>\n",
       "      <th>imdb_id</th>\n",
       "      <th>original_language</th>\n",
       "      <th>original_title</th>\n",
       "      <th>overview</th>\n",
       "      <th>popularity</th>\n",
       "      <th>...</th>\n",
       "      <th>release_date</th>\n",
       "      <th>runtime</th>\n",
       "      <th>spoken_languages</th>\n",
       "      <th>status</th>\n",
       "      <th>tagline</th>\n",
       "      <th>title</th>\n",
       "      <th>Keywords</th>\n",
       "      <th>cast</th>\n",
       "      <th>crew</th>\n",
       "      <th>log_revenue</th>\n",
       "    </tr>\n",
       "  </thead>\n",
       "  <tbody>\n",
       "    <tr>\n",
       "      <th>0</th>\n",
       "      <td>1</td>\n",
       "      <td>[{'id': 313576, 'name': 'Hot Tub Time Machine ...</td>\n",
       "      <td>14000000</td>\n",
       "      <td>[{'id': 35, 'name': 'Comedy'}]</td>\n",
       "      <td>NaN</td>\n",
       "      <td>tt2637294</td>\n",
       "      <td>en</td>\n",
       "      <td>Hot Tub Time Machine 2</td>\n",
       "      <td>When Lou, who has become the \"father of the In...</td>\n",
       "      <td>6.575393</td>\n",
       "      <td>...</td>\n",
       "      <td>2/20/15</td>\n",
       "      <td>93.0</td>\n",
       "      <td>[{'iso_639_1': 'en', 'name': 'English'}]</td>\n",
       "      <td>Released</td>\n",
       "      <td>The Laws of Space and Time are About to be Vio...</td>\n",
       "      <td>Hot Tub Time Machine 2</td>\n",
       "      <td>[{'id': 4379, 'name': 'time travel'}, {'id': 9...</td>\n",
       "      <td>[{'cast_id': 4, 'character': 'Lou', 'credit_id...</td>\n",
       "      <td>[{'credit_id': '59ac067c92514107af02c8c8', 'de...</td>\n",
       "      <td>16.326300</td>\n",
       "    </tr>\n",
       "    <tr>\n",
       "      <th>1</th>\n",
       "      <td>2</td>\n",
       "      <td>[{'id': 107674, 'name': 'The Princess Diaries ...</td>\n",
       "      <td>40000000</td>\n",
       "      <td>[{'id': 35, 'name': 'Comedy'}, {'id': 18, 'nam...</td>\n",
       "      <td>NaN</td>\n",
       "      <td>tt0368933</td>\n",
       "      <td>en</td>\n",
       "      <td>The Princess Diaries 2: Royal Engagement</td>\n",
       "      <td>Mia Thermopolis is now a college graduate and ...</td>\n",
       "      <td>8.248895</td>\n",
       "      <td>...</td>\n",
       "      <td>8/6/04</td>\n",
       "      <td>113.0</td>\n",
       "      <td>[{'iso_639_1': 'en', 'name': 'English'}]</td>\n",
       "      <td>Released</td>\n",
       "      <td>It can take a lifetime to find true love; she'...</td>\n",
       "      <td>The Princess Diaries 2: Royal Engagement</td>\n",
       "      <td>[{'id': 2505, 'name': 'coronation'}, {'id': 42...</td>\n",
       "      <td>[{'cast_id': 1, 'character': 'Mia Thermopolis'...</td>\n",
       "      <td>[{'credit_id': '52fe43fe9251416c7502563d', 'de...</td>\n",
       "      <td>18.370959</td>\n",
       "    </tr>\n",
       "    <tr>\n",
       "      <th>2</th>\n",
       "      <td>3</td>\n",
       "      <td>{}</td>\n",
       "      <td>3300000</td>\n",
       "      <td>[{'id': 18, 'name': 'Drama'}]</td>\n",
       "      <td>http://sonyclassics.com/whiplash/</td>\n",
       "      <td>tt2582802</td>\n",
       "      <td>en</td>\n",
       "      <td>Whiplash</td>\n",
       "      <td>Under the direction of a ruthless instructor, ...</td>\n",
       "      <td>64.299990</td>\n",
       "      <td>...</td>\n",
       "      <td>10/10/14</td>\n",
       "      <td>105.0</td>\n",
       "      <td>[{'iso_639_1': 'en', 'name': 'English'}]</td>\n",
       "      <td>Released</td>\n",
       "      <td>The road to greatness can take you to the edge.</td>\n",
       "      <td>Whiplash</td>\n",
       "      <td>[{'id': 1416, 'name': 'jazz'}, {'id': 1523, 'n...</td>\n",
       "      <td>[{'cast_id': 5, 'character': 'Andrew Neimann',...</td>\n",
       "      <td>[{'credit_id': '54d5356ec3a3683ba0000039', 'de...</td>\n",
       "      <td>16.387512</td>\n",
       "    </tr>\n",
       "  </tbody>\n",
       "</table>\n",
       "<p>3 rows × 23 columns</p>\n",
       "</div>"
      ],
      "text/plain": [
       "   id                              belongs_to_collection    budget  \\\n",
       "0   1  [{'id': 313576, 'name': 'Hot Tub Time Machine ...  14000000   \n",
       "1   2  [{'id': 107674, 'name': 'The Princess Diaries ...  40000000   \n",
       "2   3                                                 {}   3300000   \n",
       "\n",
       "                                              genres  \\\n",
       "0                     [{'id': 35, 'name': 'Comedy'}]   \n",
       "1  [{'id': 35, 'name': 'Comedy'}, {'id': 18, 'nam...   \n",
       "2                      [{'id': 18, 'name': 'Drama'}]   \n",
       "\n",
       "                            homepage    imdb_id original_language  \\\n",
       "0                                NaN  tt2637294                en   \n",
       "1                                NaN  tt0368933                en   \n",
       "2  http://sonyclassics.com/whiplash/  tt2582802                en   \n",
       "\n",
       "                             original_title  \\\n",
       "0                    Hot Tub Time Machine 2   \n",
       "1  The Princess Diaries 2: Royal Engagement   \n",
       "2                                  Whiplash   \n",
       "\n",
       "                                            overview  popularity  ...  \\\n",
       "0  When Lou, who has become the \"father of the In...    6.575393  ...   \n",
       "1  Mia Thermopolis is now a college graduate and ...    8.248895  ...   \n",
       "2  Under the direction of a ruthless instructor, ...   64.299990  ...   \n",
       "\n",
       "  release_date runtime                          spoken_languages    status  \\\n",
       "0      2/20/15    93.0  [{'iso_639_1': 'en', 'name': 'English'}]  Released   \n",
       "1       8/6/04   113.0  [{'iso_639_1': 'en', 'name': 'English'}]  Released   \n",
       "2     10/10/14   105.0  [{'iso_639_1': 'en', 'name': 'English'}]  Released   \n",
       "\n",
       "                                             tagline  \\\n",
       "0  The Laws of Space and Time are About to be Vio...   \n",
       "1  It can take a lifetime to find true love; she'...   \n",
       "2    The road to greatness can take you to the edge.   \n",
       "\n",
       "                                      title  \\\n",
       "0                    Hot Tub Time Machine 2   \n",
       "1  The Princess Diaries 2: Royal Engagement   \n",
       "2                                  Whiplash   \n",
       "\n",
       "                                            Keywords  \\\n",
       "0  [{'id': 4379, 'name': 'time travel'}, {'id': 9...   \n",
       "1  [{'id': 2505, 'name': 'coronation'}, {'id': 42...   \n",
       "2  [{'id': 1416, 'name': 'jazz'}, {'id': 1523, 'n...   \n",
       "\n",
       "                                                cast  \\\n",
       "0  [{'cast_id': 4, 'character': 'Lou', 'credit_id...   \n",
       "1  [{'cast_id': 1, 'character': 'Mia Thermopolis'...   \n",
       "2  [{'cast_id': 5, 'character': 'Andrew Neimann',...   \n",
       "\n",
       "                                                crew log_revenue  \n",
       "0  [{'credit_id': '59ac067c92514107af02c8c8', 'de...   16.326300  \n",
       "1  [{'credit_id': '52fe43fe9251416c7502563d', 'de...   18.370959  \n",
       "2  [{'credit_id': '54d5356ec3a3683ba0000039', 'de...   16.387512  \n",
       "\n",
       "[3 rows x 23 columns]"
      ]
     },
     "execution_count": 16,
     "metadata": {},
     "output_type": "execute_result"
    }
   ],
   "source": [
    "combined.head(3)"
   ]
  },
  {
   "cell_type": "code",
   "execution_count": 17,
   "metadata": {},
   "outputs": [],
   "source": [
    "combined.loc[combined['tagline'].isnull(),'tagline'] = 'NaN'\n",
    "combined['has_tagline'] = combined['tagline'].apply(lambda x : 1 if x != 'NaN' else 0)"
   ]
  },
  {
   "cell_type": "code",
   "execution_count": 18,
   "metadata": {},
   "outputs": [],
   "source": [
    "selected_columns = ['budget',\n",
    "                    'original_language',\n",
    "                    'popularity',\n",
    "                    'belongs_to_collection',\n",
    "                    'release_date',\n",
    "                    'has_tagline',\n",
    "                    'genres',\n",
    "                    'cast',\n",
    "                    'production_companies',\n",
    "                    'log_revenue']"
   ]
  },
  {
   "cell_type": "code",
   "execution_count": 19,
   "metadata": {},
   "outputs": [],
   "source": [
    "combined = combined[selected_columns]"
   ]
  },
  {
   "cell_type": "code",
   "execution_count": 20,
   "metadata": {},
   "outputs": [
    {
     "data": {
      "text/plain": [
       "<BarContainer object of 7398 artists>"
      ]
     },
     "execution_count": 20,
     "metadata": {},
     "output_type": "execute_result"
    },
    {
     "data": {
      "image/png": "[encoded data removed]",
      "text/plain": [
       "<Figure size 432x288 with 1 Axes>"
      ]
     },
     "metadata": {},
     "output_type": "display_data"
    }
   ],
   "source": [
    "plt.bar(combined['original_language'].apply(lambda x: x if x == 'en' else 'non en'),np.exp(combined['log_revenue']))"
   ]
  },
  {
   "cell_type": "code",
   "execution_count": 21,
   "metadata": {},
   "outputs": [],
   "source": [
    "# Extract Leading actor\n",
    "combined['leading_actor'] = combined.loc[:,'cast'].apply(lambda x : x[0]['name'] if len(x)!=0 else '')\n",
    "combined= combined.drop(['cast'],axis = 1)"
   ]
  },
  {
   "cell_type": "code",
   "execution_count": 22,
   "metadata": {},
   "outputs": [],
   "source": [
    "# Extracting production_companies\n",
    "combined['leading_production'] = combined.loc[:,'production_companies'].apply(lambda x : x[0]['name'] if len(x)!=0  else '')\n",
    "combined= combined.drop(['production_companies'],axis = 1)"
   ]
  },
  {
   "cell_type": "code",
   "execution_count": 23,
   "metadata": {},
   "outputs": [],
   "source": [
    "# Extract Main genere\n",
    "combined['main_genre'] = combined.loc[:,'genres'].apply(lambda x : x[0]['name'] if len(x)!=0 else '')\n",
    "combined= combined.drop(['genres'],axis = 1)"
   ]
  },
  {
   "cell_type": "code",
   "execution_count": 24,
   "metadata": {},
   "outputs": [],
   "source": [
    "# Convert the relase date as date column & extract year\n",
    "\n",
    "combined['year'] = combined['release_date'].apply(lambda x: datetime.strptime(x,'%m/%d/%y').year)\n",
    "combined['month'] = combined['release_date'].apply(lambda x: datetime.strptime(x,'%m/%d/%y').month)\n",
    "combined['year'] = combined['year'].apply(lambda x : x - 100 if x > 2020 else x)\n",
    "\n",
    "combined= combined.drop(['release_date'],axis = 1)"
   ]
  },
  {
   "cell_type": "code",
   "execution_count": 25,
   "metadata": {},
   "outputs": [],
   "source": [
    "import seaborn as sns\n",
    "#sns.boxplot(combined['month'],combined['log_revenue'])"
   ]
  },
  {
   "cell_type": "code",
   "execution_count": 26,
   "metadata": {},
   "outputs": [],
   "source": [
    "combined['is_collection'] = combined['belongs_to_collection'].apply(lambda x : 1 if x != {} else 0)"
   ]
  },
  {
   "cell_type": "code",
   "execution_count": 27,
   "metadata": {},
   "outputs": [
    {
     "data": {
      "text/plain": [
       "0    5917\n",
       "1    1481\n",
       "Name: belongs_to_collection, dtype: int64"
      ]
     },
     "execution_count": 27,
     "metadata": {},
     "output_type": "execute_result"
    }
   ],
   "source": [
    "(combined['belongs_to_collection'].apply(lambda x : len(x) if x!={} else 0)).value_counts()"
   ]
  },
  {
   "cell_type": "code",
   "execution_count": 28,
   "metadata": {},
   "outputs": [],
   "source": [
    "# Since we at most each move is part of one collection, lets add the collection name\n",
    "vc = pd.DataFrame(combined['belongs_to_collection'].apply(lambda x : x[0]['name'] if x !={} else 'NA').value_counts())\n",
    "\n",
    "movie_collection_list = list(vc.query('belongs_to_collection>1 and belongs_to_collection < 1000').index)"
   ]
  },
  {
   "cell_type": "code",
   "execution_count": 29,
   "metadata": {},
   "outputs": [],
   "source": [
    "combined['collection_name'] = combined['belongs_to_collection'].apply( \n",
    "                                lambda x: x[0]['name'] if (x!={} and x[0]['name'] in movie_collection_list) else 'NA')"
   ]
  },
  {
   "cell_type": "code",
   "execution_count": 30,
   "metadata": {},
   "outputs": [],
   "source": [
    "combined = combined.drop(['belongs_to_collection'],axis = 1)"
   ]
  },
  {
   "cell_type": "code",
   "execution_count": 31,
   "metadata": {},
   "outputs": [],
   "source": [
    "# oneHot encoding - Original_language\n",
    "\n",
    "combined['original_language'] = combined['original_language'].apply(lambda x: x if x == 'en' else 'non_en')\n",
    "\n",
    "en_original_language_fit = OneHotEncoder(handle_unknown='ignore').fit(combined[['original_language']])\n",
    "en_original_language = pd.DataFrame(en_original_language_fit.transform(combined[['original_language']]).toarray())\n",
    "combined= combined.join(en_original_language,rsuffix='_original_language')\n",
    "\n",
    "combined = combined.drop(['original_language'],axis = 1)"
   ]
  },
  {
   "cell_type": "code",
   "execution_count": 32,
   "metadata": {},
   "outputs": [
    {
     "data": {
      "text/plain": [
       "['James Bond Collection',\n",
       " 'Friday the 13th Collection',\n",
       " 'Pokémon Collection',\n",
       " 'The Pink Panther (Original) Collection',\n",
       " 'Harry Potter Collection',\n",
       " 'Star Wars Collection',\n",
       " 'Halloween Collection',\n",
       " 'The Fast and the Furious Collection',\n",
       " 'A Nightmare on Elm Street Collection',\n",
       " 'Police Academy Collection',\n",
       " 'Saw Collection',\n",
       " 'Rocky Collection',\n",
       " 'X-Men Collection',\n",
       " 'Star Trek: The Original Series Collection',\n",
       " 'Paranormal Activity Collection',\n",
       " 'Resident Evil Collection',\n",
       " 'The Muppet Collection',\n",
       " 'The Jack Ryan Collection',\n",
       " 'Mission: Impossible Collection']"
      ]
     },
     "execution_count": 32,
     "metadata": {},
     "output_type": "execute_result"
    }
   ],
   "source": [
    "list(combined['collection_name'].value_counts().index)[1:20]"
   ]
  },
  {
   "cell_type": "code",
   "execution_count": 33,
   "metadata": {},
   "outputs": [],
   "source": [
    "# oneHot encoding - Original_language\n",
    "\n",
    "popular_collection = list(combined['collection_name'].value_counts()[1:20].index)\n",
    "\n",
    "combined['collection_name'] = combined['collection_name'].apply(lambda x : x if x in popular_collection else 'other')\n",
    "\n",
    "en_collection_name = pd.DataFrame(OneHotEncoder(handle_unknown='ignore').fit_transform(combined[['collection_name']]).toarray())\n",
    "combined= combined.join(en_collection_name,rsuffix='_collection_name')\n",
    "\n",
    "combined = combined.drop(['collection_name'],axis = 1)"
   ]
  },
  {
   "cell_type": "code",
   "execution_count": 34,
   "metadata": {},
   "outputs": [],
   "source": [
    "# oneHot encoding - Month\n",
    "en_month = pd.DataFrame(OneHotEncoder(handle_unknown='ignore').fit_transform(combined[['month']]).toarray())\n",
    "combined= combined.join(en_month,rsuffix='_month')\n",
    "\n",
    "combined = combined.drop(['month'],axis = 1)"
   ]
  },
  {
   "cell_type": "code",
   "execution_count": null,
   "metadata": {},
   "outputs": [],
   "source": [
    "\n"
   ]
  },
  {
   "cell_type": "code",
   "execution_count": 35,
   "metadata": {},
   "outputs": [],
   "source": [
    "# oneHot encoding - Leading Actor\n",
    "popular_leading_actor = list(combined['leading_actor'].value_counts()[1:30].index)\n",
    "\n",
    "combined['leading_actor'] = combined['leading_actor'].apply(lambda x : x if x in popular_leading_actor else 'other')\n",
    "\n",
    "en_leading_actor = pd.DataFrame(OneHotEncoder(handle_unknown='ignore').fit_transform(combined[['leading_actor']]).toarray())\n",
    "combined= combined.join(en_leading_actor,rsuffix='_leading_actor')\n",
    "\n",
    "combined = combined.drop(['leading_actor'],axis = 1)"
   ]
  },
  {
   "cell_type": "code",
   "execution_count": 36,
   "metadata": {},
   "outputs": [],
   "source": [
    "# oneHot encoding - main genres\n",
    "\n",
    "popular_genre  = list(combined['main_genre'].value_counts()[0:15].index)\n",
    "\n",
    "combined['main_genre'] = combined['main_genre'].apply(lambda x : x if x in popular_genre else 'other')\n",
    "\n",
    "en_genre = pd.DataFrame(OneHotEncoder(handle_unknown='ignore').fit_transform(combined[['main_genre']]).toarray())\n",
    "combined= combined.join(en_genre,rsuffix='_main_genre')\n",
    "\n",
    "combined = combined.drop(['main_genre'],axis = 1)"
   ]
  },
  {
   "cell_type": "code",
   "execution_count": 37,
   "metadata": {},
   "outputs": [],
   "source": [
    "# oneHot encoding - leading production\n",
    "popular_production = list(combined['leading_production'].value_counts()[1:11].index)\n",
    "\n",
    "combined['leading_production'] = combined['leading_production'].apply(lambda x : 'big_producer' if x in popular_production else 'small_producer')\n",
    "\n",
    "en_production = pd.DataFrame(OneHotEncoder(handle_unknown='ignore').fit_transform(combined[['leading_production']]).toarray())\n",
    "combined= combined.join(en_production,rsuffix='_leading_production')\n",
    "\n",
    "combined = combined.drop(['leading_production'],axis = 1)"
   ]
  },
  {
   "cell_type": "code",
   "execution_count": null,
   "metadata": {},
   "outputs": [],
   "source": []
  },
  {
   "cell_type": "code",
   "execution_count": 38,
   "metadata": {},
   "outputs": [],
   "source": [
    "# Modeling"
   ]
  },
  {
   "cell_type": "code",
   "execution_count": 39,
   "metadata": {},
   "outputs": [],
   "source": [
    "train1 = combined.loc[:train_rows-1,]\n",
    "test1 = combined.loc[train_rows:,]"
   ]
  },
  {
   "cell_type": "code",
   "execution_count": 40,
   "metadata": {},
   "outputs": [],
   "source": [
    "train_trainX,train_validX,train_trainY,train_validY = train_test_split(train1,train1['log_revenue'],test_size = 0.2)"
   ]
  },
  {
   "cell_type": "code",
   "execution_count": 41,
   "metadata": {},
   "outputs": [],
   "source": [
    "train_trainX = train_trainX.drop(['log_revenue'],axis=1)\n",
    "train_validX = train_validX.drop(['log_revenue'],axis=1)\n",
    "test1 = test1.drop(['log_revenue'],axis=1)"
   ]
  },
  {
   "cell_type": "code",
   "execution_count": 42,
   "metadata": {},
   "outputs": [
    {
     "data": {
      "text/plain": [
       "((2400, 87), (600, 87), (4398, 87))"
      ]
     },
     "execution_count": 42,
     "metadata": {},
     "output_type": "execute_result"
    }
   ],
   "source": [
    "train_trainX.shape,train_validX.shape,test1.shape"
   ]
  },
  {
   "cell_type": "code",
   "execution_count": 44,
   "metadata": {},
   "outputs": [],
   "source": [
    "\n",
    "\n",
    "regr = lgb.LGBMRegressor(n_estimators=10000,\n",
    "                        objective='regression',\n",
    "                        metric='rmse',\n",
    "                        max_depth=5,\n",
    "                        num_leaves=5,\n",
    "                        min_child_samples=100,\n",
    "                        learning_rate=0.001,\n",
    "                        boosting = 'gbdt',\n",
    "                        min_data_in_leaf=10,\n",
    "                        feature_fraction=0.3,\n",
    "                        bagging_freq=1,\n",
    "                        bagging_fraction=0.9,\n",
    "                        importance_type='gain',\n",
    "                        lambda_l1=0.2,\n",
    "                        bagging_seed=12,\n",
    "                        subsample=0.8,\n",
    "                        colsample_bytree=0.9,\n",
    "                        use_best_model = True)\n",
    "\n",
    "\n",
    "model = regr.fit(train_trainX,train_trainY)"
   ]
  },
  {
   "cell_type": "code",
   "execution_count": 48,
   "metadata": {},
   "outputs": [
    {
     "data": {
      "text/plain": [
       "(2400, 87)"
      ]
     },
     "execution_count": 48,
     "metadata": {},
     "output_type": "execute_result"
    }
   ],
   "source": [
    "train_trainX.shape"
   ]
  },
  {
   "cell_type": "code",
   "execution_count": 46,
   "metadata": {},
   "outputs": [
    {
     "data": {
      "text/plain": [
       "1.8108109766897913"
      ]
     },
     "execution_count": 46,
     "metadata": {},
     "output_type": "execute_result"
    }
   ],
   "source": [
    "train1_train_prediction = pd.DataFrame({'Predicted': model.predict(train_trainX),'Actual': train_trainY})\n",
    "\n",
    "# Train Error \n",
    "np.sqrt(metrics.mean_squared_error(train1_train_prediction['Predicted'],train1_train_prediction['Actual']))"
   ]
  },
  {
   "cell_type": "code",
   "execution_count": 94,
   "metadata": {},
   "outputs": [
    {
     "data": {
      "text/plain": [
       "2.0707853969884487"
      ]
     },
     "execution_count": 94,
     "metadata": {},
     "output_type": "execute_result"
    }
   ],
   "source": [
    "train1_train_prediction = pd.DataFrame({'Predicted': model.predict(train_validX),'Actual': train_validY})\n",
    "\n",
    "# Valid Error \n",
    "np.sqrt(metrics.mean_squared_error(train1_train_prediction['Predicted'],train1_train_prediction['Actual']))"
   ]
  },
  {
   "cell_type": "code",
   "execution_count": 369,
   "metadata": {},
   "outputs": [],
   "source": [
    "# Lets Submit to Kaggle\n",
    "train1_test_prediction = pd.DataFrame({'id':test['id'],\n",
    "                                       'revenue': np.exp(model.predict(test1))}\n",
    "                                     )\n",
    "\n",
    "train1_test_prediction.to_csv('submission.csv',index=False)           "
   ]
  },
  {
   "cell_type": "code",
   "execution_count": null,
   "metadata": {},
   "outputs": [],
   "source": []
  }
 ],
 "metadata": {
  "kernelspec": {
   "display_name": "Python 3",
   "language": "python",
   "name": "python3"
  },
  "language_info": {
   "codemirror_mode": {
    "name": "ipython",
    "version": 3
   },
   "file_extension": ".py",
   "mimetype": "text/x-python",
   "name": "python",
   "nbconvert_exporter": "python",
   "pygments_lexer": "ipython3",
   "version": "3.7.3"
  }
 },
 "nbformat": 4,
 "nbformat_minor": 4
}
